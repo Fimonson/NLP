{
 "cells": [
  {
   "cell_type": "markdown",
   "id": "066d1def",
   "metadata": {},
   "source": [
    "Целью этого проекта является создание фильтра ненормативной лексики для текста с использованием глубокого обучения. Он использует сеть LSTM, которая представляет собой тип рекуррентной нейронной сети, которая может учиться на последовательных данных и фиксировать долгосрочные зависимости. Сеть LSTM обучается на наборе данных примеров текста, которые помечены как нецензурные или нет."
   ]
  },
  {
   "cell_type": "markdown",
   "id": "579c2909",
   "metadata": {},
   "source": [
    "# Анализ проблемы (что за задача решается, почему она важна)"
   ]
  },
  {
   "cell_type": "markdown",
   "id": "99b69bf7",
   "metadata": {},
   "source": [
    "Проблема использования ненормативной лексики подростками сегодня актуальная в нашем обществе. Тенденции криминализации подростковой среды, распространение среди подростков вредных привычек, сомнительные телепередачи и низкопробная печатная продукция – все это крайне негативно влияет на психологическое и моральное состояние подростков.\n",
    "\n",
    "Сейчас, когда идет трансформация общественной жизни в стране, когда меняются приоритеты деятельности и развития личности в обществе, когда криминализация достигла небывалого размаха, часто употребляется большое количество говоров, жаргонов, слэнгов, а потому проблема употребления ненормативной лексики подростками становится более актуальной.\n",
    "\n",
    "В настоящее  время система воспитания в обществе и отношение взрослых к подрастающему поколению мало учитывают особенности их личностного становления, приводя к конфликту с подростками, у которых развивается потребность в самостоятельности, самореализации, избавления от опеки. В результате между взрослыми и подростками растет психологический барьер. Стремясь его преодолеть, многие дети прибегают к агрессивным формам поведения, а проблема агрессивности молодежи вызывает сегодня глубокое беспокойство. "
   ]
  },
  {
   "cell_type": "markdown",
   "id": "f2e3ace6",
   "metadata": {},
   "source": [
    "# Подготовка"
   ]
  },
  {
   "cell_type": "code",
   "execution_count": 56,
   "id": "0fde18bb",
   "metadata": {},
   "outputs": [],
   "source": [
    "import os\n",
    "\n",
    "import matplotlib.pyplot as plt\n",
    "import numpy as np\n",
    "import pandas as pd\n",
    "import tensorflow as tf\n",
    "import numpy as mp\n",
    "from tensorflow import keras"
   ]
  },
  {
   "cell_type": "markdown",
   "id": "3e69f824",
   "metadata": {},
   "source": [
    "# Загрузка датасета"
   ]
  },
  {
   "cell_type": "markdown",
   "id": "6548815c",
   "metadata": {},
   "source": [
    "Чтобы не резало глаза, выбрал датасет с английскими словами (так же он содержит небезопасные ссылки)"
   ]
  },
  {
   "cell_type": "code",
   "execution_count": 57,
   "id": "1840e812",
   "metadata": {},
   "outputs": [
    {
     "data": {
      "text/html": [
       "<div>\n",
       "<style scoped>\n",
       "    .dataframe tbody tr th:only-of-type {\n",
       "        vertical-align: middle;\n",
       "    }\n",
       "\n",
       "    .dataframe tbody tr th {\n",
       "        vertical-align: top;\n",
       "    }\n",
       "\n",
       "    .dataframe thead th {\n",
       "        text-align: right;\n",
       "    }\n",
       "</style>\n",
       "<table border=\"1\" class=\"dataframe\">\n",
       "  <thead>\n",
       "    <tr style=\"text-align: right;\">\n",
       "      <th></th>\n",
       "      <th>id</th>\n",
       "      <th>comment_text</th>\n",
       "      <th>toxic</th>\n",
       "      <th>severe_toxic</th>\n",
       "      <th>obscene</th>\n",
       "      <th>threat</th>\n",
       "      <th>insult</th>\n",
       "      <th>identity_hate</th>\n",
       "    </tr>\n",
       "  </thead>\n",
       "  <tbody>\n",
       "    <tr>\n",
       "      <th>157696</th>\n",
       "      <td>e22cb82f385b2ce3</td>\n",
       "      <td>If Alonso de Estrada was not the natural son o...</td>\n",
       "      <td>0</td>\n",
       "      <td>0</td>\n",
       "      <td>0</td>\n",
       "      <td>0</td>\n",
       "      <td>0</td>\n",
       "      <td>0</td>\n",
       "    </tr>\n",
       "    <tr>\n",
       "      <th>52981</th>\n",
       "      <td>8d98b1f183676fc9</td>\n",
       "      <td>\"\\n\\nUsing === this page has a better view, wh...</td>\n",
       "      <td>0</td>\n",
       "      <td>0</td>\n",
       "      <td>0</td>\n",
       "      <td>0</td>\n",
       "      <td>0</td>\n",
       "      <td>0</td>\n",
       "    </tr>\n",
       "    <tr>\n",
       "      <th>89730</th>\n",
       "      <td>f00c0072a5935a2c</td>\n",
       "      <td>aeronwy \\n\\nPlease put the removed file back A...</td>\n",
       "      <td>1</td>\n",
       "      <td>0</td>\n",
       "      <td>0</td>\n",
       "      <td>0</td>\n",
       "      <td>0</td>\n",
       "      <td>0</td>\n",
       "    </tr>\n",
       "    <tr>\n",
       "      <th>146206</th>\n",
       "      <td>28b6f52dae254755</td>\n",
       "      <td>Editors Please Be Aware \\n\\nThe above users us...</td>\n",
       "      <td>0</td>\n",
       "      <td>0</td>\n",
       "      <td>0</td>\n",
       "      <td>0</td>\n",
       "      <td>0</td>\n",
       "      <td>0</td>\n",
       "    </tr>\n",
       "    <tr>\n",
       "      <th>3284</th>\n",
       "      <td>08de162b76e6f3d6</td>\n",
       "      <td>\"\\n\\n Leaving messages for other users \\n\\nHel...</td>\n",
       "      <td>0</td>\n",
       "      <td>0</td>\n",
       "      <td>0</td>\n",
       "      <td>0</td>\n",
       "      <td>0</td>\n",
       "      <td>0</td>\n",
       "    </tr>\n",
       "    <tr>\n",
       "      <th>140973</th>\n",
       "      <td>f2566b3101a9a1f4</td>\n",
       "      <td>Oh you mean to gain consensus?  Explain action...</td>\n",
       "      <td>0</td>\n",
       "      <td>0</td>\n",
       "      <td>0</td>\n",
       "      <td>0</td>\n",
       "      <td>0</td>\n",
       "      <td>0</td>\n",
       "    </tr>\n",
       "    <tr>\n",
       "      <th>77437</th>\n",
       "      <td>cf793d4ebc433231</td>\n",
       "      <td>I was there the night at the 100 club when Sid...</td>\n",
       "      <td>0</td>\n",
       "      <td>0</td>\n",
       "      <td>1</td>\n",
       "      <td>0</td>\n",
       "      <td>0</td>\n",
       "      <td>0</td>\n",
       "    </tr>\n",
       "    <tr>\n",
       "      <th>19153</th>\n",
       "      <td>32930fcdeee72756</td>\n",
       "      <td>Hi ... \\n\\n...Joseph.\\n\\nare you gay?</td>\n",
       "      <td>1</td>\n",
       "      <td>0</td>\n",
       "      <td>0</td>\n",
       "      <td>0</td>\n",
       "      <td>0</td>\n",
       "      <td>0</td>\n",
       "    </tr>\n",
       "    <tr>\n",
       "      <th>110664</th>\n",
       "      <td>4ff8b688fe41324c</td>\n",
       "      <td>Not really developed enough at all. Might be h...</td>\n",
       "      <td>0</td>\n",
       "      <td>0</td>\n",
       "      <td>0</td>\n",
       "      <td>0</td>\n",
       "      <td>0</td>\n",
       "      <td>0</td>\n",
       "    </tr>\n",
       "  </tbody>\n",
       "</table>\n",
       "</div>"
      ],
      "text/plain": [
       "                      id                                       comment_text  \\\n",
       "157696  e22cb82f385b2ce3  If Alonso de Estrada was not the natural son o...   \n",
       "52981   8d98b1f183676fc9  \"\\n\\nUsing === this page has a better view, wh...   \n",
       "89730   f00c0072a5935a2c  aeronwy \\n\\nPlease put the removed file back A...   \n",
       "146206  28b6f52dae254755  Editors Please Be Aware \\n\\nThe above users us...   \n",
       "3284    08de162b76e6f3d6  \"\\n\\n Leaving messages for other users \\n\\nHel...   \n",
       "140973  f2566b3101a9a1f4  Oh you mean to gain consensus?  Explain action...   \n",
       "77437   cf793d4ebc433231  I was there the night at the 100 club when Sid...   \n",
       "19153   32930fcdeee72756              Hi ... \\n\\n...Joseph.\\n\\nare you gay?   \n",
       "110664  4ff8b688fe41324c  Not really developed enough at all. Might be h...   \n",
       "\n",
       "        toxic  severe_toxic  obscene  threat  insult  identity_hate  \n",
       "157696      0             0        0       0       0              0  \n",
       "52981       0             0        0       0       0              0  \n",
       "89730       1             0        0       0       0              0  \n",
       "146206      0             0        0       0       0              0  \n",
       "3284        0             0        0       0       0              0  \n",
       "140973      0             0        0       0       0              0  \n",
       "77437       0             0        1       0       0              0  \n",
       "19153       1             0        0       0       0              0  \n",
       "110664      0             0        0       0       0              0  "
      ]
     },
     "execution_count": 57,
     "metadata": {},
     "output_type": "execute_result"
    }
   ],
   "source": [
    "df = pd.read_csv('train.csv')\n",
    "df.sample(9)"
   ]
  },
  {
   "cell_type": "code",
   "execution_count": 58,
   "id": "3e32841d",
   "metadata": {},
   "outputs": [
    {
     "data": {
      "text/html": [
       "<div>\n",
       "<style scoped>\n",
       "    .dataframe tbody tr th:only-of-type {\n",
       "        vertical-align: middle;\n",
       "    }\n",
       "\n",
       "    .dataframe tbody tr th {\n",
       "        vertical-align: top;\n",
       "    }\n",
       "\n",
       "    .dataframe thead th {\n",
       "        text-align: right;\n",
       "    }\n",
       "</style>\n",
       "<table border=\"1\" class=\"dataframe\">\n",
       "  <thead>\n",
       "    <tr style=\"text-align: right;\">\n",
       "      <th></th>\n",
       "      <th>id</th>\n",
       "      <th>comment_text</th>\n",
       "    </tr>\n",
       "  </thead>\n",
       "  <tbody>\n",
       "    <tr>\n",
       "      <th>119053</th>\n",
       "      <td>c6b9b9a6ba805669</td>\n",
       "      <td>Gosh, I didn't ask you for your sarcastic opin...</td>\n",
       "    </tr>\n",
       "    <tr>\n",
       "      <th>73295</th>\n",
       "      <td>7a2370ea2bba6cbf</td>\n",
       "      <td>:Creating obviously inappropriate pages and th...</td>\n",
       "    </tr>\n",
       "    <tr>\n",
       "      <th>33609</th>\n",
       "      <td>37e2e5b46a3bd17c</td>\n",
       "      <td>:FYI, I have driven this route from end to end...</td>\n",
       "    </tr>\n",
       "    <tr>\n",
       "      <th>56975</th>\n",
       "      <td>5ecb23c8c9ab37e9</td>\n",
       "      <td>=== Listing note ===</td>\n",
       "    </tr>\n",
       "    <tr>\n",
       "      <th>135808</th>\n",
       "      <td>e2fabd87ad9479f0</td>\n",
       "      <td>\" \\n All of the following dieties are listed i...</td>\n",
       "    </tr>\n",
       "    <tr>\n",
       "      <th>60263</th>\n",
       "      <td>64342d496db6a1a7</td>\n",
       "      <td>Shut the Fuck up</td>\n",
       "    </tr>\n",
       "    <tr>\n",
       "      <th>140403</th>\n",
       "      <td>eabe87911820cae3</td>\n",
       "      <td>:I did not block him for just that; the 2ndry ...</td>\n",
       "    </tr>\n",
       "    <tr>\n",
       "      <th>98244</th>\n",
       "      <td>a3ec96777829a8e6</td>\n",
       "      <td>black  \\n\\n black people r awsome whitem peopl...</td>\n",
       "    </tr>\n",
       "    <tr>\n",
       "      <th>16632</th>\n",
       "      <td>1bf8944b8edb6584</td>\n",
       "      <td>:::::PS: I do see how your edits indicate we a...</td>\n",
       "    </tr>\n",
       "  </tbody>\n",
       "</table>\n",
       "</div>"
      ],
      "text/plain": [
       "                      id                                       comment_text\n",
       "119053  c6b9b9a6ba805669  Gosh, I didn't ask you for your sarcastic opin...\n",
       "73295   7a2370ea2bba6cbf  :Creating obviously inappropriate pages and th...\n",
       "33609   37e2e5b46a3bd17c  :FYI, I have driven this route from end to end...\n",
       "56975   5ecb23c8c9ab37e9                               === Listing note ===\n",
       "135808  e2fabd87ad9479f0  \" \\n All of the following dieties are listed i...\n",
       "60263   64342d496db6a1a7                                   Shut the Fuck up\n",
       "140403  eabe87911820cae3  :I did not block him for just that; the 2ndry ...\n",
       "98244   a3ec96777829a8e6  black  \\n\\n black people r awsome whitem peopl...\n",
       "16632   1bf8944b8edb6584  :::::PS: I do see how your edits indicate we a..."
      ]
     },
     "execution_count": 58,
     "metadata": {},
     "output_type": "execute_result"
    }
   ],
   "source": [
    "df_test_values = pd.read_csv('test.csv')\n",
    "df_test_values.sample(9)"
   ]
  },
  {
   "cell_type": "code",
   "execution_count": 59,
   "id": "c57eb2bb",
   "metadata": {},
   "outputs": [
    {
     "data": {
      "text/html": [
       "<div>\n",
       "<style scoped>\n",
       "    .dataframe tbody tr th:only-of-type {\n",
       "        vertical-align: middle;\n",
       "    }\n",
       "\n",
       "    .dataframe tbody tr th {\n",
       "        vertical-align: top;\n",
       "    }\n",
       "\n",
       "    .dataframe thead th {\n",
       "        text-align: right;\n",
       "    }\n",
       "</style>\n",
       "<table border=\"1\" class=\"dataframe\">\n",
       "  <thead>\n",
       "    <tr style=\"text-align: right;\">\n",
       "      <th></th>\n",
       "      <th>id</th>\n",
       "      <th>toxic</th>\n",
       "      <th>severe_toxic</th>\n",
       "      <th>obscene</th>\n",
       "      <th>threat</th>\n",
       "      <th>insult</th>\n",
       "      <th>identity_hate</th>\n",
       "    </tr>\n",
       "  </thead>\n",
       "  <tbody>\n",
       "    <tr>\n",
       "      <th>136788</th>\n",
       "      <td>e494b5a4d9774c5d</td>\n",
       "      <td>-1</td>\n",
       "      <td>-1</td>\n",
       "      <td>-1</td>\n",
       "      <td>-1</td>\n",
       "      <td>-1</td>\n",
       "      <td>-1</td>\n",
       "    </tr>\n",
       "    <tr>\n",
       "      <th>136496</th>\n",
       "      <td>e419119de1980dc4</td>\n",
       "      <td>0</td>\n",
       "      <td>0</td>\n",
       "      <td>0</td>\n",
       "      <td>0</td>\n",
       "      <td>0</td>\n",
       "      <td>0</td>\n",
       "    </tr>\n",
       "    <tr>\n",
       "      <th>39952</th>\n",
       "      <td>4253f5867a853014</td>\n",
       "      <td>0</td>\n",
       "      <td>0</td>\n",
       "      <td>0</td>\n",
       "      <td>0</td>\n",
       "      <td>0</td>\n",
       "      <td>0</td>\n",
       "    </tr>\n",
       "    <tr>\n",
       "      <th>47459</th>\n",
       "      <td>4eb9eed23f0ce287</td>\n",
       "      <td>-1</td>\n",
       "      <td>-1</td>\n",
       "      <td>-1</td>\n",
       "      <td>-1</td>\n",
       "      <td>-1</td>\n",
       "      <td>-1</td>\n",
       "    </tr>\n",
       "    <tr>\n",
       "      <th>69044</th>\n",
       "      <td>72f2c422352d5b84</td>\n",
       "      <td>1</td>\n",
       "      <td>0</td>\n",
       "      <td>0</td>\n",
       "      <td>0</td>\n",
       "      <td>0</td>\n",
       "      <td>1</td>\n",
       "    </tr>\n",
       "    <tr>\n",
       "      <th>147725</th>\n",
       "      <td>f6f04d78fc333fa6</td>\n",
       "      <td>0</td>\n",
       "      <td>0</td>\n",
       "      <td>0</td>\n",
       "      <td>0</td>\n",
       "      <td>0</td>\n",
       "      <td>0</td>\n",
       "    </tr>\n",
       "    <tr>\n",
       "      <th>98332</th>\n",
       "      <td>a40fda25098d8faa</td>\n",
       "      <td>-1</td>\n",
       "      <td>-1</td>\n",
       "      <td>-1</td>\n",
       "      <td>-1</td>\n",
       "      <td>-1</td>\n",
       "      <td>-1</td>\n",
       "    </tr>\n",
       "    <tr>\n",
       "      <th>114737</th>\n",
       "      <td>bf7c704b41fb2c10</td>\n",
       "      <td>-1</td>\n",
       "      <td>-1</td>\n",
       "      <td>-1</td>\n",
       "      <td>-1</td>\n",
       "      <td>-1</td>\n",
       "      <td>-1</td>\n",
       "    </tr>\n",
       "    <tr>\n",
       "      <th>78193</th>\n",
       "      <td>82727886a5393ac7</td>\n",
       "      <td>-1</td>\n",
       "      <td>-1</td>\n",
       "      <td>-1</td>\n",
       "      <td>-1</td>\n",
       "      <td>-1</td>\n",
       "      <td>-1</td>\n",
       "    </tr>\n",
       "  </tbody>\n",
       "</table>\n",
       "</div>"
      ],
      "text/plain": [
       "                      id  toxic  severe_toxic  obscene  threat  insult  \\\n",
       "136788  e494b5a4d9774c5d     -1            -1       -1      -1      -1   \n",
       "136496  e419119de1980dc4      0             0        0       0       0   \n",
       "39952   4253f5867a853014      0             0        0       0       0   \n",
       "47459   4eb9eed23f0ce287     -1            -1       -1      -1      -1   \n",
       "69044   72f2c422352d5b84      1             0        0       0       0   \n",
       "147725  f6f04d78fc333fa6      0             0        0       0       0   \n",
       "98332   a40fda25098d8faa     -1            -1       -1      -1      -1   \n",
       "114737  bf7c704b41fb2c10     -1            -1       -1      -1      -1   \n",
       "78193   82727886a5393ac7     -1            -1       -1      -1      -1   \n",
       "\n",
       "        identity_hate  \n",
       "136788             -1  \n",
       "136496              0  \n",
       "39952               0  \n",
       "47459              -1  \n",
       "69044               1  \n",
       "147725              0  \n",
       "98332              -1  \n",
       "114737             -1  \n",
       "78193              -1  "
      ]
     },
     "execution_count": 59,
     "metadata": {},
     "output_type": "execute_result"
    }
   ],
   "source": [
    "df_test_labels = pd.read_csv('test_labels.csv')\n",
    "df_test_labels.sample(9)"
   ]
  },
  {
   "cell_type": "code",
   "execution_count": 60,
   "id": "901c5047",
   "metadata": {},
   "outputs": [],
   "source": [
    "df_test = pd.merge(df_test_values, df_test_labels, on = 'id', how='inner')"
   ]
  },
  {
   "cell_type": "code",
   "execution_count": 61,
   "id": "2e3b593c",
   "metadata": {},
   "outputs": [
    {
     "data": {
      "text/html": [
       "<div>\n",
       "<style scoped>\n",
       "    .dataframe tbody tr th:only-of-type {\n",
       "        vertical-align: middle;\n",
       "    }\n",
       "\n",
       "    .dataframe tbody tr th {\n",
       "        vertical-align: top;\n",
       "    }\n",
       "\n",
       "    .dataframe thead th {\n",
       "        text-align: right;\n",
       "    }\n",
       "</style>\n",
       "<table border=\"1\" class=\"dataframe\">\n",
       "  <thead>\n",
       "    <tr style=\"text-align: right;\">\n",
       "      <th></th>\n",
       "      <th>id</th>\n",
       "      <th>comment_text</th>\n",
       "      <th>toxic</th>\n",
       "      <th>severe_toxic</th>\n",
       "      <th>obscene</th>\n",
       "      <th>threat</th>\n",
       "      <th>insult</th>\n",
       "      <th>identity_hate</th>\n",
       "    </tr>\n",
       "  </thead>\n",
       "  <tbody>\n",
       "    <tr>\n",
       "      <th>16027</th>\n",
       "      <td>2a476b8e17e8219c</td>\n",
       "      <td>Look see PCID does not like peer review and ha...</td>\n",
       "      <td>0</td>\n",
       "      <td>0</td>\n",
       "      <td>0</td>\n",
       "      <td>0</td>\n",
       "      <td>0</td>\n",
       "      <td>0</td>\n",
       "    </tr>\n",
       "    <tr>\n",
       "      <th>771</th>\n",
       "      <td>020dbbdb2f69bd97</td>\n",
       "      <td>\"Organizations \\n|class=  Start               ...</td>\n",
       "      <td>0</td>\n",
       "      <td>0</td>\n",
       "      <td>0</td>\n",
       "      <td>0</td>\n",
       "      <td>0</td>\n",
       "      <td>0</td>\n",
       "    </tr>\n",
       "    <tr>\n",
       "      <th>129036</th>\n",
       "      <td>b215753ce21a42fa</td>\n",
       "      <td>commiemoron seems to make alot of mistakes gos...</td>\n",
       "      <td>1</td>\n",
       "      <td>0</td>\n",
       "      <td>1</td>\n",
       "      <td>0</td>\n",
       "      <td>1</td>\n",
       "      <td>0</td>\n",
       "    </tr>\n",
       "    <tr>\n",
       "      <th>52835</th>\n",
       "      <td>8d3c1abe96902f1f</td>\n",
       "      <td>Is it a genuine user \\n\\nA user 59.180.173.138...</td>\n",
       "      <td>0</td>\n",
       "      <td>0</td>\n",
       "      <td>0</td>\n",
       "      <td>0</td>\n",
       "      <td>0</td>\n",
       "      <td>0</td>\n",
       "    </tr>\n",
       "    <tr>\n",
       "      <th>142193</th>\n",
       "      <td>f88ff6702f942dbb</td>\n",
       "      <td>mo - i wont accept that - youve said i have vi...</td>\n",
       "      <td>0</td>\n",
       "      <td>0</td>\n",
       "      <td>0</td>\n",
       "      <td>0</td>\n",
       "      <td>0</td>\n",
       "      <td>0</td>\n",
       "    </tr>\n",
       "    <tr>\n",
       "      <th>158071</th>\n",
       "      <td>e86a3ac121247fa1</td>\n",
       "      <td>Hi World! Hows it going</td>\n",
       "      <td>0</td>\n",
       "      <td>0</td>\n",
       "      <td>0</td>\n",
       "      <td>0</td>\n",
       "      <td>0</td>\n",
       "      <td>0</td>\n",
       "    </tr>\n",
       "    <tr>\n",
       "      <th>9079</th>\n",
       "      <td>182d1d00dc0d00e9</td>\n",
       "      <td>\"\\n If you need an Old AFD multi template ther...</td>\n",
       "      <td>0</td>\n",
       "      <td>0</td>\n",
       "      <td>0</td>\n",
       "      <td>0</td>\n",
       "      <td>0</td>\n",
       "      <td>0</td>\n",
       "    </tr>\n",
       "    <tr>\n",
       "      <th>124972</th>\n",
       "      <td>9c9016ac33902c91</td>\n",
       "      <td>Have a great vacation.  While we don't agree o...</td>\n",
       "      <td>0</td>\n",
       "      <td>0</td>\n",
       "      <td>0</td>\n",
       "      <td>0</td>\n",
       "      <td>0</td>\n",
       "      <td>0</td>\n",
       "    </tr>\n",
       "  </tbody>\n",
       "</table>\n",
       "</div>"
      ],
      "text/plain": [
       "                      id                                       comment_text  \\\n",
       "16027   2a476b8e17e8219c  Look see PCID does not like peer review and ha...   \n",
       "771     020dbbdb2f69bd97  \"Organizations \\n|class=  Start               ...   \n",
       "129036  b215753ce21a42fa  commiemoron seems to make alot of mistakes gos...   \n",
       "52835   8d3c1abe96902f1f  Is it a genuine user \\n\\nA user 59.180.173.138...   \n",
       "142193  f88ff6702f942dbb  mo - i wont accept that - youve said i have vi...   \n",
       "158071  e86a3ac121247fa1                            Hi World! Hows it going   \n",
       "9079    182d1d00dc0d00e9  \"\\n If you need an Old AFD multi template ther...   \n",
       "124972  9c9016ac33902c91  Have a great vacation.  While we don't agree o...   \n",
       "\n",
       "        toxic  severe_toxic  obscene  threat  insult  identity_hate  \n",
       "16027       0             0        0       0       0              0  \n",
       "771         0             0        0       0       0              0  \n",
       "129036      1             0        1       0       1              0  \n",
       "52835       0             0        0       0       0              0  \n",
       "142193      0             0        0       0       0              0  \n",
       "158071      0             0        0       0       0              0  \n",
       "9079        0             0        0       0       0              0  \n",
       "124972      0             0        0       0       0              0  "
      ]
     },
     "execution_count": 61,
     "metadata": {},
     "output_type": "execute_result"
    }
   ],
   "source": [
    "df.sample(8)"
   ]
  },
  {
   "cell_type": "code",
   "execution_count": 62,
   "id": "28e95e2a",
   "metadata": {},
   "outputs": [
    {
     "data": {
      "text/plain": [
       "((159571, 8), (153164, 8))"
      ]
     },
     "execution_count": 62,
     "metadata": {},
     "output_type": "execute_result"
    }
   ],
   "source": [
    "df.shape, df_test.shape"
   ]
  },
  {
   "cell_type": "code",
   "execution_count": 63,
   "id": "0e909fc3",
   "metadata": {},
   "outputs": [
    {
     "data": {
      "text/plain": [
       "(63978, 8)"
      ]
     },
     "execution_count": 63,
     "metadata": {},
     "output_type": "execute_result"
    }
   ],
   "source": [
    "filtered_test = df_test[(df_test['toxic'] != -1) & (df_test['severe_toxic'] != -1) & (df_test['obscene'] != -1) & (df_test['threat'] != -1) & (df_test['insult'] != -1) & (df_test['identity_hate'] != -1)]\n",
    "filtered_test.shape"
   ]
  },
  {
   "cell_type": "code",
   "execution_count": 64,
   "id": "a0fe14a5",
   "metadata": {},
   "outputs": [
    {
     "data": {
      "text/html": [
       "<div>\n",
       "<style scoped>\n",
       "    .dataframe tbody tr th:only-of-type {\n",
       "        vertical-align: middle;\n",
       "    }\n",
       "\n",
       "    .dataframe tbody tr th {\n",
       "        vertical-align: top;\n",
       "    }\n",
       "\n",
       "    .dataframe thead th {\n",
       "        text-align: right;\n",
       "    }\n",
       "</style>\n",
       "<table border=\"1\" class=\"dataframe\">\n",
       "  <thead>\n",
       "    <tr style=\"text-align: right;\">\n",
       "      <th></th>\n",
       "      <th>id</th>\n",
       "      <th>comment_text</th>\n",
       "      <th>toxic</th>\n",
       "      <th>severe_toxic</th>\n",
       "      <th>obscene</th>\n",
       "      <th>threat</th>\n",
       "      <th>insult</th>\n",
       "      <th>identity_hate</th>\n",
       "    </tr>\n",
       "  </thead>\n",
       "  <tbody>\n",
       "    <tr>\n",
       "      <th>95324</th>\n",
       "      <td>9f089efea405d5e0</td>\n",
       "      <td>::::::Oh, no...there are many more options. Se...</td>\n",
       "      <td>0</td>\n",
       "      <td>0</td>\n",
       "      <td>0</td>\n",
       "      <td>0</td>\n",
       "      <td>0</td>\n",
       "      <td>0</td>\n",
       "    </tr>\n",
       "    <tr>\n",
       "      <th>56694</th>\n",
       "      <td>5e54c4430105f6c0</td>\n",
       "      <td>It has never been my aim to defame you. Actual...</td>\n",
       "      <td>0</td>\n",
       "      <td>0</td>\n",
       "      <td>0</td>\n",
       "      <td>0</td>\n",
       "      <td>0</td>\n",
       "      <td>0</td>\n",
       "    </tr>\n",
       "    <tr>\n",
       "      <th>20320</th>\n",
       "      <td>221348c1fa396d6a</td>\n",
       "      <td>\" \\n\\n == Image:Boutros Boutros-Ghali.jpg == \\...</td>\n",
       "      <td>0</td>\n",
       "      <td>0</td>\n",
       "      <td>0</td>\n",
       "      <td>0</td>\n",
       "      <td>0</td>\n",
       "      <td>0</td>\n",
       "    </tr>\n",
       "    <tr>\n",
       "      <th>22616</th>\n",
       "      <td>25c89f08fb4478a8</td>\n",
       "      <td>== etnawn na == \\n\\n Nikhat Internet bula tu k...</td>\n",
       "      <td>0</td>\n",
       "      <td>0</td>\n",
       "      <td>0</td>\n",
       "      <td>0</td>\n",
       "      <td>0</td>\n",
       "      <td>0</td>\n",
       "    </tr>\n",
       "    <tr>\n",
       "      <th>50755</th>\n",
       "      <td>543b2f8148acc34e</td>\n",
       "      <td>\" \\n\\n == WikiCup participation == \\n\\n I know...</td>\n",
       "      <td>1</td>\n",
       "      <td>0</td>\n",
       "      <td>0</td>\n",
       "      <td>0</td>\n",
       "      <td>0</td>\n",
       "      <td>0</td>\n",
       "    </tr>\n",
       "    <tr>\n",
       "      <th>90451</th>\n",
       "      <td>96c88b926609462d</td>\n",
       "      <td>|listas=2 Stupid Dogs episodes</td>\n",
       "      <td>0</td>\n",
       "      <td>0</td>\n",
       "      <td>0</td>\n",
       "      <td>0</td>\n",
       "      <td>0</td>\n",
       "      <td>0</td>\n",
       "    </tr>\n",
       "    <tr>\n",
       "      <th>84044</th>\n",
       "      <td>8c2919bd251ce79f</td>\n",
       "      <td>:this is relevant. I was thinking of it, and g...</td>\n",
       "      <td>0</td>\n",
       "      <td>0</td>\n",
       "      <td>0</td>\n",
       "      <td>0</td>\n",
       "      <td>0</td>\n",
       "      <td>0</td>\n",
       "    </tr>\n",
       "    <tr>\n",
       "      <th>76714</th>\n",
       "      <td>7ff78686c8807a45</td>\n",
       "      <td>== a question == \\n\\n Dear friend, which kind ...</td>\n",
       "      <td>0</td>\n",
       "      <td>0</td>\n",
       "      <td>0</td>\n",
       "      <td>0</td>\n",
       "      <td>0</td>\n",
       "      <td>0</td>\n",
       "    </tr>\n",
       "    <tr>\n",
       "      <th>124499</th>\n",
       "      <td>cff791608fb426b2</td>\n",
       "      <td>\"==Regarding edits made during May 9 2007== \\n...</td>\n",
       "      <td>0</td>\n",
       "      <td>0</td>\n",
       "      <td>0</td>\n",
       "      <td>0</td>\n",
       "      <td>0</td>\n",
       "      <td>0</td>\n",
       "    </tr>\n",
       "  </tbody>\n",
       "</table>\n",
       "</div>"
      ],
      "text/plain": [
       "                      id                                       comment_text  \\\n",
       "95324   9f089efea405d5e0  ::::::Oh, no...there are many more options. Se...   \n",
       "56694   5e54c4430105f6c0  It has never been my aim to defame you. Actual...   \n",
       "20320   221348c1fa396d6a  \" \\n\\n == Image:Boutros Boutros-Ghali.jpg == \\...   \n",
       "22616   25c89f08fb4478a8  == etnawn na == \\n\\n Nikhat Internet bula tu k...   \n",
       "50755   543b2f8148acc34e  \" \\n\\n == WikiCup participation == \\n\\n I know...   \n",
       "90451   96c88b926609462d                     |listas=2 Stupid Dogs episodes   \n",
       "84044   8c2919bd251ce79f  :this is relevant. I was thinking of it, and g...   \n",
       "76714   7ff78686c8807a45  == a question == \\n\\n Dear friend, which kind ...   \n",
       "124499  cff791608fb426b2  \"==Regarding edits made during May 9 2007== \\n...   \n",
       "\n",
       "        toxic  severe_toxic  obscene  threat  insult  identity_hate  \n",
       "95324       0             0        0       0       0              0  \n",
       "56694       0             0        0       0       0              0  \n",
       "20320       0             0        0       0       0              0  \n",
       "22616       0             0        0       0       0              0  \n",
       "50755       1             0        0       0       0              0  \n",
       "90451       0             0        0       0       0              0  \n",
       "84044       0             0        0       0       0              0  \n",
       "76714       0             0        0       0       0              0  \n",
       "124499      0             0        0       0       0              0  "
      ]
     },
     "execution_count": 64,
     "metadata": {},
     "output_type": "execute_result"
    }
   ],
   "source": [
    "filtered_test.sample(9)"
   ]
  },
  {
   "cell_type": "code",
   "execution_count": 65,
   "id": "ca170788",
   "metadata": {},
   "outputs": [
    {
     "data": {
      "text/plain": [
       "\"Your vandalism to the Matt Shirvington article has been reverted.  Please don't do it again, or you will be banned.\""
      ]
     },
     "execution_count": 65,
     "metadata": {},
     "output_type": "execute_result"
    }
   ],
   "source": [
    "df.iloc[7]['comment_text']"
   ]
  },
  {
   "cell_type": "code",
   "execution_count": 66,
   "id": "561befda",
   "metadata": {},
   "outputs": [
    {
     "data": {
      "text/plain": [
       "toxic            0\n",
       "severe_toxic     0\n",
       "obscene          0\n",
       "threat           0\n",
       "insult           0\n",
       "identity_hate    0\n",
       "Name: 7, dtype: int64"
      ]
     },
     "execution_count": 66,
     "metadata": {},
     "output_type": "execute_result"
    }
   ],
   "source": [
    "df[df.columns[2:]].iloc[7]"
   ]
  },
  {
   "cell_type": "markdown",
   "id": "c7f55e33",
   "metadata": {},
   "source": [
    "# Предварительная обработка данных"
   ]
  },
  {
   "cell_type": "code",
   "execution_count": 67,
   "id": "fb84b05e",
   "metadata": {},
   "outputs": [],
   "source": [
    "from keras.layers import TextVectorization"
   ]
  },
  {
   "cell_type": "code",
   "execution_count": 68,
   "id": "19519ec8",
   "metadata": {},
   "outputs": [],
   "source": [
    "X = df['comment_text']\n",
    "y = df[df.columns[2:]].values"
   ]
  },
  {
   "cell_type": "code",
   "execution_count": 69,
   "id": "9430f4de",
   "metadata": {},
   "outputs": [],
   "source": [
    "MAX_FEATURES = 200000 # количество слов в словарном запасе"
   ]
  },
  {
   "cell_type": "code",
   "execution_count": 70,
   "id": "98233fa0",
   "metadata": {},
   "outputs": [],
   "source": [
    "vectorizer = TextVectorization(max_tokens=MAX_FEATURES,\n",
    "                               output_sequence_length=1800,\n",
    "                               output_mode='int')"
   ]
  },
  {
   "cell_type": "code",
   "execution_count": 71,
   "id": "b20a584d",
   "metadata": {},
   "outputs": [],
   "source": [
    "vectorizer.adapt(X.values)"
   ]
  },
  {
   "cell_type": "code",
   "execution_count": 72,
   "id": "40149aa3",
   "metadata": {},
   "outputs": [],
   "source": [
    "vectorized_text = vectorizer(X.values)"
   ]
  },
  {
   "cell_type": "code",
   "execution_count": 73,
   "id": "147a806c",
   "metadata": {},
   "outputs": [
    {
     "data": {
      "text/plain": [
       "<tf.Tensor: shape=(159571, 1800), dtype=int64, numpy=\n",
       "array([[  645,    76,     2, ...,     0,     0,     0],\n",
       "       [    1,    54,  2489, ...,     0,     0,     0],\n",
       "       [  425,   441,    70, ...,     0,     0,     0],\n",
       "       ...,\n",
       "       [32445,  7392,   383, ...,     0,     0,     0],\n",
       "       [    5,    12,   534, ...,     0,     0,     0],\n",
       "       [    5,     8,   130, ...,     0,     0,     0]], dtype=int64)>"
      ]
     },
     "execution_count": 73,
     "metadata": {},
     "output_type": "execute_result"
    }
   ],
   "source": [
    "vectorized_text"
   ]
  },
  {
   "cell_type": "code",
   "execution_count": 74,
   "id": "f201d7b7",
   "metadata": {},
   "outputs": [],
   "source": [
    "# СОЗДАНИЕ КОНВЕЙЕРА ДАННЫХ\n",
    "\n",
    "dataset = tf.data.Dataset.from_tensor_slices((vectorized_text, y))\n",
    "dataset = dataset.cache()\n",
    "dataset = dataset.shuffle(160000)\n",
    "dataset = dataset.batch(16)\n",
    "dataset = dataset.prefetch(8)"
   ]
  },
  {
   "cell_type": "code",
   "execution_count": 75,
   "id": "e861ea27",
   "metadata": {},
   "outputs": [
    {
     "data": {
      "text/plain": [
       "(array([[   14,    24,     9, ...,     0,     0,     0],\n",
       "        [   48,    98,    10, ...,     0,     0,     0],\n",
       "        [   16,    68, 67580, ...,     0,     0,     0],\n",
       "        ...,\n",
       "        [   49,     7,   654, ...,     0,     0,     0],\n",
       "        [   29,   307,   128, ...,     0,     0,     0],\n",
       "        [   94,   124,     7, ...,     0,     0,     0]], dtype=int64),\n",
       " array([[0, 0, 0, 0, 0, 0],\n",
       "        [0, 0, 0, 0, 0, 0],\n",
       "        [0, 0, 0, 0, 0, 0],\n",
       "        [0, 0, 0, 0, 0, 0],\n",
       "        [0, 0, 0, 0, 0, 0],\n",
       "        [0, 0, 0, 0, 0, 0],\n",
       "        [0, 0, 0, 0, 0, 0],\n",
       "        [0, 0, 0, 0, 0, 0],\n",
       "        [0, 0, 0, 0, 0, 0],\n",
       "        [0, 0, 0, 0, 0, 0],\n",
       "        [0, 0, 0, 0, 0, 0],\n",
       "        [0, 0, 0, 0, 0, 0],\n",
       "        [0, 0, 0, 0, 0, 0],\n",
       "        [0, 0, 0, 0, 0, 0],\n",
       "        [0, 0, 0, 0, 0, 0],\n",
       "        [0, 0, 0, 0, 0, 0]], dtype=int64))"
      ]
     },
     "execution_count": 75,
     "metadata": {},
     "output_type": "execute_result"
    }
   ],
   "source": [
    "dataset.as_numpy_iterator().next()"
   ]
  },
  {
   "cell_type": "code",
   "execution_count": 76,
   "id": "74e43747",
   "metadata": {},
   "outputs": [],
   "source": [
    "# Предварительная обработка тестовых данных\n",
    "\n",
    "Xt = filtered_test['comment_text']\n",
    "yt = filtered_test[filtered_test.columns[2:]].values\n",
    "# vectorizer.adapt(X.values)\n",
    "vectorized_text_y = vectorizer(Xt.values)\n",
    "\n",
    "# Создание конвеера данных\n",
    "test_dataset = tf.data.Dataset.from_tensor_slices((vectorized_text_y, yt))\n",
    "test_dataset = test_dataset.cache()\n",
    "test_dataset = test_dataset.shuffle(160000)\n",
    "test_dataset = test_dataset.batch(16)\n",
    "test_dataset = test_dataset.prefetch(8)"
   ]
  },
  {
   "cell_type": "code",
   "execution_count": 77,
   "id": "799090ef",
   "metadata": {},
   "outputs": [],
   "source": [
    "train = dataset.take(int(len(dataset)* 0.8)) # 0.8 for 80% of total data\n",
    "val = dataset.skip(int(len(dataset)* 0.8)).take(int(len(dataset)* 0.2))\n",
    "test = test_dataset"
   ]
  },
  {
   "cell_type": "code",
   "execution_count": 78,
   "id": "76d9e4e4",
   "metadata": {},
   "outputs": [
    {
     "name": "stdout",
     "output_type": "stream",
     "text": [
      "Length of Data : \n",
      "\n",
      "Training Data : 7979 \n",
      "Validation Data : 1994 \n",
      "Testing Data : 3999\n"
     ]
    }
   ],
   "source": [
    "print(f'Length of Data : \\n\\nTraining Data : {len(train)} \\nValidation Data : {len(val)} \\nTesting Data : {len(test)}')"
   ]
  },
  {
   "cell_type": "markdown",
   "id": "11bb0ba5",
   "metadata": {},
   "source": [
    "# Создание модели"
   ]
  },
  {
   "cell_type": "code",
   "execution_count": 79,
   "id": "bcb7e0ad",
   "metadata": {},
   "outputs": [],
   "source": [
    "from keras import Sequential\n",
    "from keras.layers import LSTM, Dropout, Bidirectional, Dense, Embedding"
   ]
  },
  {
   "cell_type": "code",
   "execution_count": 80,
   "id": "5fc394ea",
   "metadata": {},
   "outputs": [],
   "source": [
    "## Создание модели\n",
    "model = Sequential()\n",
    "model.add(Embedding(MAX_FEATURES+1, 32))\n",
    "model.add(Bidirectional(LSTM(32, activation='tanh')))\n",
    "\n",
    "# Добавление слоев\n",
    "model.add(Dense(128, activation='relu'))\n",
    "model.add(Dense(256, activation='relu'))\n",
    "model.add(Dense(128, activation='relu'))\n",
    "model.add(Dense(6, activation='sigmoid'))"
   ]
  },
  {
   "cell_type": "code",
   "execution_count": 81,
   "id": "d284f46b",
   "metadata": {},
   "outputs": [],
   "source": [
    "model.compile(loss = 'BinaryCrossentropy', optimizer='adam')"
   ]
  },
  {
   "cell_type": "code",
   "execution_count": 82,
   "id": "f8e8b990",
   "metadata": {},
   "outputs": [
    {
     "name": "stdout",
     "output_type": "stream",
     "text": [
      "Model: \"sequential_1\"\n",
      "_________________________________________________________________\n",
      " Layer (type)                Output Shape              Param #   \n",
      "=================================================================\n",
      " embedding_1 (Embedding)     (None, None, 32)          6400032   \n",
      "                                                                 \n",
      " bidirectional_1 (Bidirecti  (None, 64)                16640     \n",
      " onal)                                                           \n",
      "                                                                 \n",
      " dense_4 (Dense)             (None, 128)               8320      \n",
      "                                                                 \n",
      " dense_5 (Dense)             (None, 256)               33024     \n",
      "                                                                 \n",
      " dense_6 (Dense)             (None, 128)               32896     \n",
      "                                                                 \n",
      " dense_7 (Dense)             (None, 6)                 774       \n",
      "                                                                 \n",
      "=================================================================\n",
      "Total params: 6491686 (24.76 MB)\n",
      "Trainable params: 6491686 (24.76 MB)\n",
      "Non-trainable params: 0 (0.00 Byte)\n",
      "_________________________________________________________________\n"
     ]
    }
   ],
   "source": [
    "model.summary()"
   ]
  },
  {
   "cell_type": "markdown",
   "id": "ed60d6a0",
   "metadata": {},
   "source": [
    "# Обучение"
   ]
  },
  {
   "cell_type": "code",
   "execution_count": 83,
   "id": "ac7ee691",
   "metadata": {},
   "outputs": [
    {
     "name": "stdout",
     "output_type": "stream",
     "text": [
      "Epoch 1/10\n",
      "7979/7979 [==============================] - 2651s 332ms/step - loss: 0.0601 - val_loss: 0.0454\n",
      "Epoch 2/10\n",
      "7979/7979 [==============================] - 2710s 340ms/step - loss: 0.0443 - val_loss: 0.0371\n",
      "Epoch 3/10\n",
      "7979/7979 [==============================] - 3029s 380ms/step - loss: 0.0385 - val_loss: 0.0346\n",
      "Epoch 4/10\n",
      "7979/7979 [==============================] - 3060s 384ms/step - loss: 0.0340 - val_loss: 0.0293\n",
      "Epoch 5/10\n",
      "7979/7979 [==============================] - 2927s 367ms/step - loss: 0.0300 - val_loss: 0.0260\n",
      "Epoch 6/10\n",
      "7979/7979 [==============================] - 2805s 352ms/step - loss: 0.0266 - val_loss: 0.0228\n",
      "Epoch 7/10\n",
      "7979/7979 [==============================] - 2671s 335ms/step - loss: 0.0237 - val_loss: 0.0195\n",
      "Epoch 8/10\n",
      "7979/7979 [==============================] - 2651s 332ms/step - loss: 0.0207 - val_loss: 0.0179\n",
      "Epoch 9/10\n",
      "7979/7979 [==============================] - 2663s 334ms/step - loss: 0.0187 - val_loss: 0.0146\n",
      "Epoch 10/10\n",
      "7979/7979 [==============================] - 2609s 327ms/step - loss: 0.0167 - val_loss: 0.0143\n"
     ]
    }
   ],
   "source": [
    "history = model.fit(train, epochs=10, validation_data=val)"
   ]
  },
  {
   "cell_type": "markdown",
   "id": "d52efb53",
   "metadata": {},
   "source": [
    "# Создание графика изменения ошибки"
   ]
  },
  {
   "cell_type": "code",
   "execution_count": 84,
   "id": "a217c886",
   "metadata": {},
   "outputs": [
    {
     "data": {
      "text/plain": [
       "<AxesSubplot:>"
      ]
     },
     "execution_count": 84,
     "metadata": {},
     "output_type": "execute_result"
    },
    {
     "data": {
      "text/plain": [
       "<Figure size 1100x700 with 0 Axes>"
      ]
     },
     "metadata": {},
     "output_type": "display_data"
    },
    {
     "data": {
      "image/png": "[encoded data removed]",
      "text/plain": [
       "<Figure size 640x480 with 1 Axes>"
      ]
     },
     "metadata": {},
     "output_type": "display_data"
    }
   ],
   "source": [
    "plt.figure(figsize=(11,7))\n",
    "pd.DataFrame(history.history).plot()"
   ]
  },
  {
   "cell_type": "markdown",
   "id": "1b9f75d7",
   "metadata": {},
   "source": [
    "# Проверка модели"
   ]
  },
  {
   "cell_type": "code",
   "execution_count": 85,
   "id": "fa965649",
   "metadata": {},
   "outputs": [],
   "source": [
    "input_text1 = vectorizer('you fucking moron,i am going to kill you') # Очень плохие слова(лучше не переводить)\n",
    "input_text2 = vectorizer('omg youre so adorable, i love you soo much') # Хорошие слова"
   ]
  },
  {
   "cell_type": "code",
   "execution_count": 86,
   "id": "bb4311ea",
   "metadata": {},
   "outputs": [
    {
     "name": "stdout",
     "output_type": "stream",
     "text": [
      "1/1 [==============================] - 1s 574ms/step\n",
      "1/1 [==============================] - 0s 49ms/step\n"
     ]
    }
   ],
   "source": [
    "res1 = model.predict(np.expand_dims(input_text1, 0))\n",
    "res2 = model.predict(np.expand_dims(input_text2, 0))"
   ]
  },
  {
   "cell_type": "code",
   "execution_count": 87,
   "id": "a51e4bb6",
   "metadata": {},
   "outputs": [
    {
     "data": {
      "text/plain": [
       "array([[0.9999788 , 0.6987884 , 0.9969354 , 0.11651298, 0.97027695,\n",
       "        0.89149827]], dtype=float32)"
      ]
     },
     "execution_count": 87,
     "metadata": {},
     "output_type": "execute_result"
    }
   ],
   "source": [
    "res1"
   ]
  },
  {
   "cell_type": "code",
   "execution_count": 88,
   "id": "cfd16ae5",
   "metadata": {},
   "outputs": [
    {
     "data": {
      "text/plain": [
       "array([[7.6476520e-01, 6.5486296e-04, 2.9604426e-02, 3.8816142e-03,\n",
       "        8.3573945e-02, 5.5009387e-03]], dtype=float32)"
      ]
     },
     "execution_count": 88,
     "metadata": {},
     "output_type": "execute_result"
    }
   ],
   "source": [
    "res2"
   ]
  },
  {
   "cell_type": "code",
   "execution_count": 89,
   "id": "8ed2d269",
   "metadata": {},
   "outputs": [],
   "source": [
    "batch_X, batch_y = test.as_numpy_iterator().next()"
   ]
  },
  {
   "cell_type": "code",
   "execution_count": 90,
   "id": "34bbb885",
   "metadata": {},
   "outputs": [
    {
     "name": "stdout",
     "output_type": "stream",
     "text": [
      "1/1 [==============================] - 0s 67ms/step\n"
     ]
    }
   ],
   "source": [
    "pred = (model.predict(batch_X) > 0.5).astype(int)"
   ]
  },
  {
   "cell_type": "markdown",
   "id": "66970d83",
   "metadata": {},
   "source": [
    "Очень долго все обучалось)) Надо было брать другую модель(BERT)"
   ]
  }
 ],
 "metadata": {
  "kernelspec": {
   "display_name": "Python 3 (ipykernel)",
   "language": "python",
   "name": "python3"
  },
  "language_info": {
   "codemirror_mode": {
    "name": "ipython",
    "version": 3
   },
   "file_extension": ".py",
   "mimetype": "text/x-python",
   "name": "python",
   "nbconvert_exporter": "python",
   "pygments_lexer": "ipython3",
   "version": "3.9.13"
  }
 },
 "nbformat": 4,
 "nbformat_minor": 5
}
